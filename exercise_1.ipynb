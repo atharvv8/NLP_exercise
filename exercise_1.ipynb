{
  "nbformat": 4,
  "nbformat_minor": 0,
  "metadata": {
    "colab": {
      "provenance": [],
      "gpuType": "T4",
      "authorship_tag": "ABX9TyMU6k+yJfW9O75A/A/azzJz",
      "include_colab_link": true
    },
    "kernelspec": {
      "name": "python3",
      "display_name": "Python 3"
    },
    "language_info": {
      "name": "python"
    },
    "accelerator": "GPU"
  },
  "cells": [
    {
      "cell_type": "markdown",
      "metadata": {
        "id": "view-in-github",
        "colab_type": "text"
      },
      "source": [
        "<a href=\"https://colab.research.google.com/github/atharvv8/NLP_exercise/blob/main/exercise_1.ipynb\" target=\"_parent\"><img src=\"https://colab.research.google.com/assets/colab-badge.svg\" alt=\"Open In Colab\"/></a>"
      ]
    },
    {
      "cell_type": "code",
      "execution_count": null,
      "metadata": {
        "id": "5JfkslTI4sKA"
      },
      "outputs": [],
      "source": [
        "# !pip install nltk"
      ]
    },
    {
      "cell_type": "code",
      "source": [
        "import nltk"
      ],
      "metadata": {
        "id": "GCMeI6Am43kE"
      },
      "execution_count": 2,
      "outputs": []
    },
    {
      "cell_type": "code",
      "source": [
        "import re\n",
        "from nltk.corpus import stopwords"
      ],
      "metadata": {
        "id": "3XLdA5Ps48wn"
      },
      "execution_count": 3,
      "outputs": []
    },
    {
      "cell_type": "code",
      "source": [
        "from nltk.stem.porter import PorterStemmer\n",
        "from nltk.stem import WordNetLemmatizer"
      ],
      "metadata": {
        "id": "6ZE7bvVS5DEd"
      },
      "execution_count": 20,
      "outputs": []
    },
    {
      "cell_type": "code",
      "source": [
        "para = \"\"\"Narendra Damodardas Modi (Gujarati: [ˈnəɾendɾə dɑmodəɾˈdɑs ˈmodiː] ⓘ; born 17 September 1950)[b] is an Indian politician who has served as the 14th prime minister of India since May 2014. Modi was the chief minister of Gujarat from 2001 to 2014 and is the Member of Parliament (MP) for Varanasi. He is a member of the Bharatiya Janata Party (BJP) and of the Rashtriya Swayamsevak Sangh (RSS), a right wing Hindu nationalist paramilitary volunteer organisation. He is the longest-serving prime minister from outside the Indian National Congress.\n",
        "\n",
        "Modi was born and raised in Vadnagar in northeastern Gujarat, where he completed his secondary education. He was introduced to the RSS at the age of eight. His account of helping his father sell tea at the Vadnagar railway station has not been reliably corroborated. At age 18, he was married to Jashodaben Modi, whom he abandoned soon after, only publicly acknowledging her four decades later when legally required to do so. Modi became a full-time worker for the RSS in Gujarat in 1971. The RSS assigned him to the BJP in 1985 and he held several positions within the party hierarchy until 2001, rising to the rank of general secretary.[c]\n",
        "\n",
        "In 2001, Modi was appointed Chief Minister of Gujarat and elected to the legislative assembly soon after. His administration is considered complicit in the 2002 Gujarat riots,[d] and has been criticised for its management of the crisis. A little over 1,000 people were killed, according to official records, three-quarters of whom were Muslim; independent sources estimated 2,000 deaths, mostly Muslim.[11] A Special Investigation Team appointed by the Supreme Court of India in 2012 found no evidence to initiate prosecution proceedings against him.[e] While his policies as chief minister, which were credited for encouraging economic growth, were praised, Modi's administration was criticised for failing to significantly improve health, poverty and education indices in the state.[f] In the 2014 Indian general election, Modi led the BJP to a parliamentary majority, the first for a party since 1984. His administration increased direct foreign investment, and it reduced spending on healthcare, education, and social-welfare programmes. Modi began a high-profile sanitation campaign, controversially initiated the 2016 demonetisation of high-denomination banknotes and introduced the Goods and Services Tax, and weakened or abolished environmental and labour laws.\n",
        "\n",
        "Modi's administration launched the 2019 Balakot airstrike against an alleged terrorist training camp in Pakistan. The airstrike failed,[14][15] and the deaths of six Indian personnel to friendly fire was later revealed: but the action had nationalist appeal.[16] Modi's party comfortably won the 2019 general election which followed.[17] In its second term, his administration revoked the special status of Jammu and Kashmir, an Indian-administered portion of the disputed Kashmir region,[18][19] and introduced the Citizenship Amendment Act, prompting widespread protests, and spurring the 2020 Delhi riots in which Muslims were brutalised and killed by Hindu mobs,[20][21][22] sometimes with the complicity of police forces controlled by the Modi administration.[23][24] Three controversial farm laws led to sit-ins by farmers across the country, eventually causing their formal repeal. Modi oversaw India's response to the COVID-19 pandemic, during which 4.7 million Indians died, according to the World Health Organization's estimates.[25][26]\n",
        "\n",
        "Under Modi's tenure, India has experienced democratic backsliding, or the weakening of democratic institutions, individual rights, and freedom of expression.[27][28][g] As prime minister, he has received consistently high approval ratings.[34][35][36] Modi has been described as engineering a political realignment towards right-wing politics. He remains a controversial figure domestically and internationally, over his Hindu nationalist beliefs and handling of the Gujarat riots, which have been cited as evidence of a majoritarian and exclusionary social agenda.[h]\"\"\""
      ],
      "metadata": {
        "id": "eqM_RAWd6D0h"
      },
      "execution_count": 6,
      "outputs": []
    },
    {
      "cell_type": "code",
      "source": [
        "para"
      ],
      "metadata": {
        "colab": {
          "base_uri": "https://localhost:8080/",
          "height": 127
        },
        "id": "PSK0Yw-Q6vIj",
        "outputId": "b36ea3cf-e363-4259-8698-82a7234daeda"
      },
      "execution_count": 7,
      "outputs": [
        {
          "output_type": "execute_result",
          "data": {
            "text/plain": [
              "\"Narendra Damodardas Modi (Gujarati: [ˈnəɾendɾə dɑmodəɾˈdɑs ˈmodiː] ⓘ; born 17 September 1950)[b] is an Indian politician who has served as the 14th prime minister of India since May 2014. Modi was the chief minister of Gujarat from 2001 to 2014 and is the Member of Parliament (MP) for Varanasi. He is a member of the Bharatiya Janata Party (BJP) and of the Rashtriya Swayamsevak Sangh (RSS), a right wing Hindu nationalist paramilitary volunteer organisation. He is the longest-serving prime minister from outside the Indian National Congress.\\n\\nModi was born and raised in Vadnagar in northeastern Gujarat, where he completed his secondary education. He was introduced to the RSS at the age of eight. His account of helping his father sell tea at the Vadnagar railway station has not been reliably corroborated. At age 18, he was married to Jashodaben Modi, whom he abandoned soon after, only publicly acknowledging her four decades later when legally required to do so. Modi became a full-time worker for the RSS in Gujarat in 1971. The RSS assigned him to the BJP in 1985 and he held several positions within the party hierarchy until 2001, rising to the rank of general secretary.[c]\\n\\nIn 2001, Modi was appointed Chief Minister of Gujarat and elected to the legislative assembly soon after. His administration is considered complicit in the 2002 Gujarat riots,[d] and has been criticised for its management of the crisis. A little over 1,000 people were killed, according to official records, three-quarters of whom were Muslim; independent sources estimated 2,000 deaths, mostly Muslim.[11] A Special Investigation Team appointed by the Supreme Court of India in 2012 found no evidence to initiate prosecution proceedings against him.[e] While his policies as chief minister, which were credited for encouraging economic growth, were praised, Modi's administration was criticised for failing to significantly improve health, poverty and education indices in the state.[f] In the 2014 Indian general election, Modi led the BJP to a parliamentary majority, the first for a party since 1984. His administration increased direct foreign investment, and it reduced spending on healthcare, education, and social-welfare programmes. Modi began a high-profile sanitation campaign, controversially initiated the 2016 demonetisation of high-denomination banknotes and introduced the Goods and Services Tax, and weakened or abolished environmental and labour laws.\\n\\nModi's administration launched the 2019 Balakot airstrike against an alleged terrorist training camp in Pakistan. The airstrike failed,[14][15] and the deaths of six Indian personnel to friendly fire was later revealed: but the action had nationalist appeal.[16] Modi's party comfortably won the 2019 general election which followed.[17] In its second term, his administration revoked the special status of Jammu and Kashmir, an Indian-administered portion of the disputed Kashmir region,[18][19] and introduced the Citizenship Amendment Act, prompting widespread protests, and spurring the 2020 Delhi riots in which Muslims were brutalised and killed by Hindu mobs,[20][21][22] sometimes with the complicity of police forces controlled by the Modi administration.[23][24] Three controversial farm laws led to sit-ins by farmers across the country, eventually causing their formal repeal. Modi oversaw India's response to the COVID-19 pandemic, during which 4.7 million Indians died, according to the World Health Organization's estimates.[25][26]\\n\\nUnder Modi's tenure, India has experienced democratic backsliding, or the weakening of democratic institutions, individual rights, and freedom of expression.[27][28][g] As prime minister, he has received consistently high approval ratings.[34][35][36] Modi has been described as engineering a political realignment towards right-wing politics. He remains a controversial figure domestically and internationally, over his Hindu nationalist beliefs and handling of the Gujarat riots, which have been cited as evidence of a majoritarian and exclusionary social agenda.[h]\""
            ],
            "application/vnd.google.colaboratory.intrinsic+json": {
              "type": "string"
            }
          },
          "metadata": {},
          "execution_count": 7
        }
      ]
    },
    {
      "cell_type": "code",
      "source": [
        "ps=PorterStemmer()\n",
        "wl=WordNetLemmatizer()"
      ],
      "metadata": {
        "id": "3t_WBE-16wMN"
      },
      "execution_count": 21,
      "outputs": []
    },
    {
      "cell_type": "markdown",
      "source": [],
      "metadata": {
        "id": "_hwebMQW8VO9"
      }
    },
    {
      "cell_type": "code",
      "source": [
        "nltk.download('punkt')"
      ],
      "metadata": {
        "colab": {
          "base_uri": "https://localhost:8080/"
        },
        "id": "GryHjLO57I6N",
        "outputId": "40838165-2b70-421e-c949-91202ecdd982"
      },
      "execution_count": 10,
      "outputs": [
        {
          "output_type": "stream",
          "name": "stderr",
          "text": [
            "[nltk_data] Downloading package punkt to /root/nltk_data...\n",
            "[nltk_data]   Unzipping tokenizers/punkt.zip.\n"
          ]
        },
        {
          "output_type": "execute_result",
          "data": {
            "text/plain": [
              "True"
            ]
          },
          "metadata": {},
          "execution_count": 10
        }
      ]
    },
    {
      "cell_type": "code",
      "source": [
        "sent=nltk.sent_tokenize(para)"
      ],
      "metadata": {
        "id": "CykPUnNX64_U"
      },
      "execution_count": 11,
      "outputs": []
    },
    {
      "cell_type": "code",
      "source": [
        "sent"
      ],
      "metadata": {
        "colab": {
          "base_uri": "https://localhost:8080/"
        },
        "id": "GaNEmb5L7LkQ",
        "outputId": "3ec454ee-4345-4b55-879f-10d484427c87"
      },
      "execution_count": 12,
      "outputs": [
        {
          "output_type": "execute_result",
          "data": {
            "text/plain": [
              "['Narendra Damodardas Modi (Gujarati: [ˈnəɾendɾə dɑmodəɾˈdɑs ˈmodiː] ⓘ; born 17 September 1950)[b] is an Indian politician who has served as the 14th prime minister of India since May 2014.',\n",
              " 'Modi was the chief minister of Gujarat from 2001 to 2014 and is the Member of Parliament (MP) for Varanasi.',\n",
              " 'He is a member of the Bharatiya Janata Party (BJP) and of the Rashtriya Swayamsevak Sangh (RSS), a right wing Hindu nationalist paramilitary volunteer organisation.',\n",
              " 'He is the longest-serving prime minister from outside the Indian National Congress.',\n",
              " 'Modi was born and raised in Vadnagar in northeastern Gujarat, where he completed his secondary education.',\n",
              " 'He was introduced to the RSS at the age of eight.',\n",
              " 'His account of helping his father sell tea at the Vadnagar railway station has not been reliably corroborated.',\n",
              " 'At age 18, he was married to Jashodaben Modi, whom he abandoned soon after, only publicly acknowledging her four decades later when legally required to do so.',\n",
              " 'Modi became a full-time worker for the RSS in Gujarat in 1971.',\n",
              " 'The RSS assigned him to the BJP in 1985 and he held several positions within the party hierarchy until 2001, rising to the rank of general secretary.',\n",
              " '[c]\\n\\nIn 2001, Modi was appointed Chief Minister of Gujarat and elected to the legislative assembly soon after.',\n",
              " 'His administration is considered complicit in the 2002 Gujarat riots,[d] and has been criticised for its management of the crisis.',\n",
              " 'A little over 1,000 people were killed, according to official records, three-quarters of whom were Muslim; independent sources estimated 2,000 deaths, mostly Muslim.',\n",
              " '[11] A Special Investigation Team appointed by the Supreme Court of India in 2012 found no evidence to initiate prosecution proceedings against him.',\n",
              " \"[e] While his policies as chief minister, which were credited for encouraging economic growth, were praised, Modi's administration was criticised for failing to significantly improve health, poverty and education indices in the state.\",\n",
              " '[f] In the 2014 Indian general election, Modi led the BJP to a parliamentary majority, the first for a party since 1984.',\n",
              " 'His administration increased direct foreign investment, and it reduced spending on healthcare, education, and social-welfare programmes.',\n",
              " 'Modi began a high-profile sanitation campaign, controversially initiated the 2016 demonetisation of high-denomination banknotes and introduced the Goods and Services Tax, and weakened or abolished environmental and labour laws.',\n",
              " \"Modi's administration launched the 2019 Balakot airstrike against an alleged terrorist training camp in Pakistan.\",\n",
              " 'The airstrike failed,[14][15] and the deaths of six Indian personnel to friendly fire was later revealed: but the action had nationalist appeal.',\n",
              " \"[16] Modi's party comfortably won the 2019 general election which followed.\",\n",
              " '[17] In its second term, his administration revoked the special status of Jammu and Kashmir, an Indian-administered portion of the disputed Kashmir region,[18][19] and introduced the Citizenship Amendment Act, prompting widespread protests, and spurring the 2020 Delhi riots in which Muslims were brutalised and killed by Hindu mobs,[20][21][22] sometimes with the complicity of police forces controlled by the Modi administration.',\n",
              " '[23][24] Three controversial farm laws led to sit-ins by farmers across the country, eventually causing their formal repeal.',\n",
              " \"Modi oversaw India's response to the COVID-19 pandemic, during which 4.7 million Indians died, according to the World Health Organization's estimates.\",\n",
              " \"[25][26]\\n\\nUnder Modi's tenure, India has experienced democratic backsliding, or the weakening of democratic institutions, individual rights, and freedom of expression.\",\n",
              " '[27][28][g] As prime minister, he has received consistently high approval ratings.',\n",
              " '[34][35][36] Modi has been described as engineering a political realignment towards right-wing politics.',\n",
              " 'He remains a controversial figure domestically and internationally, over his Hindu nationalist beliefs and handling of the Gujarat riots, which have been cited as evidence of a majoritarian and exclusionary social agenda.',\n",
              " '[h]']"
            ]
          },
          "metadata": {},
          "execution_count": 12
        }
      ]
    },
    {
      "cell_type": "code",
      "source": [
        "nltk.download('stopwords')"
      ],
      "metadata": {
        "colab": {
          "base_uri": "https://localhost:8080/"
        },
        "id": "WnzY0yBa82QP",
        "outputId": "c44fd614-8403-4e72-b7ff-423d60611f60"
      },
      "execution_count": 15,
      "outputs": [
        {
          "output_type": "stream",
          "name": "stderr",
          "text": [
            "[nltk_data] Downloading package stopwords to /root/nltk_data...\n",
            "[nltk_data]   Unzipping corpora/stopwords.zip.\n"
          ]
        },
        {
          "output_type": "execute_result",
          "data": {
            "text/plain": [
              "True"
            ]
          },
          "metadata": {},
          "execution_count": 15
        }
      ]
    },
    {
      "cell_type": "code",
      "source": [
        "corpus =[]\n",
        "for i in range(len(sent)):\n",
        "  r=re.sub('[^a-zA-Z]',' ',sent[i])#r resembeles words\n",
        "  r=r.lower()#to convert characters to lowercase\n",
        "  words=r.split()#to convert sentences into words\n",
        "  r=[ps.stem(word) for word in words if not word in set(stopwords.words('english'))]\n",
        "  r=' '.join(r)\n",
        "  corpus.append(r)"
      ],
      "metadata": {
        "id": "EN2lHS1m7McI"
      },
      "execution_count": 18,
      "outputs": []
    },
    {
      "cell_type": "code",
      "source": [
        "corpus"
      ],
      "metadata": {
        "colab": {
          "base_uri": "https://localhost:8080/"
        },
        "id": "SrC98nle9ABF",
        "outputId": "9750f42a-cf0a-4db3-b3ef-074cef39f0ee"
      },
      "execution_count": 19,
      "outputs": [
        {
          "output_type": "execute_result",
          "data": {
            "text/plain": [
              "['narendra damodarda modi gujarati n end mod modi born septemb b indian politician serv th prime minist india sinc may',\n",
              " 'modi chief minist gujarat member parliament mp varanasi',\n",
              " 'member bharatiya janata parti bjp rashtriya swayamsevak sangh rss right wing hindu nationalist paramilitari volunt organis',\n",
              " 'longest serv prime minist outsid indian nation congress',\n",
              " 'modi born rais vadnagar northeastern gujarat complet secondari educ',\n",
              " 'introduc rss age eight',\n",
              " 'account help father sell tea vadnagar railway station reliabl corrobor',\n",
              " 'age marri jashodaben modi abandon soon publicli acknowledg four decad later legal requir',\n",
              " 'modi becam full time worker rss gujarat',\n",
              " 'rss assign bjp held sever posit within parti hierarchi rise rank gener secretari',\n",
              " 'c modi appoint chief minist gujarat elect legisl assembl soon',\n",
              " 'administr consid complicit gujarat riot criticis manag crisi',\n",
              " 'littl peopl kill accord offici record three quarter muslim independ sourc estim death mostli muslim',\n",
              " 'special investig team appoint suprem court india found evid initi prosecut proceed',\n",
              " 'e polici chief minist credit encourag econom growth prais modi administr criticis fail significantli improv health poverti educ indic state',\n",
              " 'f indian gener elect modi led bjp parliamentari major first parti sinc',\n",
              " 'administr increas direct foreign invest reduc spend healthcar educ social welfar programm',\n",
              " 'modi began high profil sanit campaign controversi initi demonetis high denomin banknot introduc good servic tax weaken abolish environment labour law',\n",
              " 'modi administr launch balakot airstrik alleg terrorist train camp pakistan',\n",
              " 'airstrik fail death six indian personnel friendli fire later reveal action nationalist appeal',\n",
              " 'modi parti comfort gener elect follow',\n",
              " 'second term administr revok special statu jammu kashmir indian administ portion disput kashmir region introduc citizenship amend act prompt widespread protest spur delhi riot muslim brutalis kill hindu mob sometim complic polic forc control modi administr',\n",
              " 'three controversi farm law led sit in farmer across countri eventu caus formal repeal',\n",
              " 'modi oversaw india respons covid pandem million indian die accord world health organ estim',\n",
              " 'modi tenur india experienc democrat backslid weaken democrat institut individu right freedom express',\n",
              " 'g prime minist receiv consist high approv rate',\n",
              " 'modi describ engin polit realign toward right wing polit',\n",
              " 'remain controversi figur domest intern hindu nationalist belief handl gujarat riot cite evid majoritarian exclusionari social agenda',\n",
              " 'h']"
            ]
          },
          "metadata": {},
          "execution_count": 19
        }
      ]
    },
    {
      "cell_type": "code",
      "source": [
        "nltk.download('wordnet')"
      ],
      "metadata": {
        "colab": {
          "base_uri": "https://localhost:8080/"
        },
        "id": "mqPFrOPA9nTh",
        "outputId": "4f4cbd58-9aff-4482-9976-dd7d57279f68"
      },
      "execution_count": 24,
      "outputs": [
        {
          "output_type": "stream",
          "name": "stderr",
          "text": [
            "[nltk_data] Downloading package wordnet to /root/nltk_data...\n"
          ]
        },
        {
          "output_type": "execute_result",
          "data": {
            "text/plain": [
              "True"
            ]
          },
          "metadata": {},
          "execution_count": 24
        }
      ]
    },
    {
      "cell_type": "code",
      "source": [
        "corpus2 =[]\n",
        "for i in range(len(sent)):\n",
        "  r=re.sub('[^a-zA-Z]',' ',sent[i])#r resembeles words\n",
        "  r=r.lower()#to convert characters to lowercase\n",
        "  words=r.split()#to convert sentences into words\n",
        "  r=[wl.lemmatize(word) for word in words if not word in set(stopwords.words('english'))]\n",
        "  r=' '.join(r)\n",
        "  corpus2.append(r)"
      ],
      "metadata": {
        "id": "_ciMaXv_9Ycq"
      },
      "execution_count": 25,
      "outputs": []
    },
    {
      "cell_type": "code",
      "source": [
        "#Convert into vectors methods- bag of words, tf/idf, word2Vec\n",
        "#Creating Bag of Words\n",
        "from sklearn.feature_extraction.text import CountVectorizer\n",
        "cv=CountVectorizer(max_features=100)\n",
        "dataset=cv.fit_transform(corpus2).toarray()"
      ],
      "metadata": {
        "id": "OYzimEjR-F5v"
      },
      "execution_count": 27,
      "outputs": []
    },
    {
      "cell_type": "code",
      "source": [
        "dataset"
      ],
      "metadata": {
        "colab": {
          "base_uri": "https://localhost:8080/"
        },
        "id": "QQQU4b-z_UNZ",
        "outputId": "229bef59-903c-45d8-d075-19fd3b36b2c1"
      },
      "execution_count": 28,
      "outputs": [
        {
          "output_type": "execute_result",
          "data": {
            "text/plain": [
              "array([[0, 0, 0, ..., 0, 0, 0],\n",
              "       [0, 0, 0, ..., 0, 0, 0],\n",
              "       [0, 0, 0, ..., 0, 0, 1],\n",
              "       ...,\n",
              "       [0, 0, 0, ..., 0, 0, 1],\n",
              "       [0, 0, 0, ..., 0, 0, 0],\n",
              "       [0, 0, 0, ..., 0, 0, 0]])"
            ]
          },
          "metadata": {},
          "execution_count": 28
        }
      ]
    },
    {
      "cell_type": "code",
      "source": [
        "#Creating TF/IDF model\n",
        "from sklearn.feature_extraction.text import TfidfVectorizer\n",
        "tv=TfidfVectorizer()"
      ],
      "metadata": {
        "id": "Ft_BfPXJ_XAz"
      },
      "execution_count": 38,
      "outputs": []
    },
    {
      "cell_type": "code",
      "source": [
        "dataset2=tv.fit_transform(corpus2).toarray()"
      ],
      "metadata": {
        "id": "fnDadSapBi2N"
      },
      "execution_count": 39,
      "outputs": []
    },
    {
      "cell_type": "code",
      "source": [
        "dataset2"
      ],
      "metadata": {
        "colab": {
          "base_uri": "https://localhost:8080/"
        },
        "id": "tDbCgXyyCCmH",
        "outputId": "ad3501b0-fecf-479d-9d7c-f8297e29f686"
      },
      "execution_count": 40,
      "outputs": [
        {
          "output_type": "execute_result",
          "data": {
            "text/plain": [
              "array([[0., 0., 0., ..., 0., 0., 0.],\n",
              "       [0., 0., 0., ..., 0., 0., 0.],\n",
              "       [0., 0., 0., ..., 0., 0., 0.],\n",
              "       ...,\n",
              "       [0., 0., 0., ..., 0., 0., 0.],\n",
              "       [0., 0., 0., ..., 0., 0., 0.],\n",
              "       [0., 0., 0., ..., 0., 0., 0.]])"
            ]
          },
          "metadata": {},
          "execution_count": 40
        }
      ]
    },
    {
      "cell_type": "code",
      "source": [
        "#Word2Vec\n",
        "from gensim.models import Word2Vec"
      ],
      "metadata": {
        "id": "A3WbMIxMCEsJ"
      },
      "execution_count": 44,
      "outputs": []
    },
    {
      "cell_type": "code",
      "source": [
        "#Preprocessing\n",
        "text= re.sub('[0-9]',' ',para)\n",
        "text=re.sub('[^a-zA-Z.]',' ',text)\n",
        "text=re.sub(r'\\s+',' ',text)\n",
        "text=text.lower()\n",
        "text"
      ],
      "metadata": {
        "colab": {
          "base_uri": "https://localhost:8080/",
          "height": 127
        },
        "id": "Bxk8k3-xC0CO",
        "outputId": "24b109e2-6bf8-4ec4-c212-146eb754438a"
      },
      "execution_count": 61,
      "outputs": [
        {
          "output_type": "execute_result",
          "data": {
            "text/plain": [
              "'narendra damodardas modi gujarati n end d mod d s modi born september b is an indian politician who has served as the th prime minister of india since may . modi was the chief minister of gujarat from to and is the member of parliament mp for varanasi. he is a member of the bharatiya janata party bjp and of the rashtriya swayamsevak sangh rss a right wing hindu nationalist paramilitary volunteer organisation. he is the longest serving prime minister from outside the indian national congress. modi was born and raised in vadnagar in northeastern gujarat where he completed his secondary education. he was introduced to the rss at the age of eight. his account of helping his father sell tea at the vadnagar railway station has not been reliably corroborated. at age he was married to jashodaben modi whom he abandoned soon after only publicly acknowledging her four decades later when legally required to do so. modi became a full time worker for the rss in gujarat in . the rss assigned him to the bjp in and he held several positions within the party hierarchy until rising to the rank of general secretary. c in modi was appointed chief minister of gujarat and elected to the legislative assembly soon after. his administration is considered complicit in the gujarat riots d and has been criticised for its management of the crisis. a little over people were killed according to official records three quarters of whom were muslim independent sources estimated deaths mostly muslim. a special investigation team appointed by the supreme court of india in found no evidence to initiate prosecution proceedings against him. e while his policies as chief minister which were credited for encouraging economic growth were praised modi s administration was criticised for failing to significantly improve health poverty and education indices in the state. f in the indian general election modi led the bjp to a parliamentary majority the first for a party since . his administration increased direct foreign investment and it reduced spending on healthcare education and social welfare programmes. modi began a high profile sanitation campaign controversially initiated the demonetisation of high denomination banknotes and introduced the goods and services tax and weakened or abolished environmental and labour laws. modi s administration launched the balakot airstrike against an alleged terrorist training camp in pakistan. the airstrike failed and the deaths of six indian personnel to friendly fire was later revealed but the action had nationalist appeal. modi s party comfortably won the general election which followed. in its second term his administration revoked the special status of jammu and kashmir an indian administered portion of the disputed kashmir region and introduced the citizenship amendment act prompting widespread protests and spurring the delhi riots in which muslims were brutalised and killed by hindu mobs sometimes with the complicity of police forces controlled by the modi administration. three controversial farm laws led to sit ins by farmers across the country eventually causing their formal repeal. modi oversaw india s response to the covid pandemic during which . million indians died according to the world health organization s estimates. under modi s tenure india has experienced democratic backsliding or the weakening of democratic institutions individual rights and freedom of expression. g as prime minister he has received consistently high approval ratings. modi has been described as engineering a political realignment towards right wing politics. he remains a controversial figure domestically and internationally over his hindu nationalist beliefs and handling of the gujarat riots which have been cited as evidence of a majoritarian and exclusionary social agenda. h '"
            ],
            "application/vnd.google.colaboratory.intrinsic+json": {
              "type": "string"
            }
          },
          "metadata": {},
          "execution_count": 61
        }
      ]
    },
    {
      "cell_type": "code",
      "source": [
        "sent=nltk.sent_tokenize(text)\n",
        "sent=[nltk.word_tokenize(s)for s in sent]"
      ],
      "metadata": {
        "id": "4nFl9YoQEWMH"
      },
      "execution_count": 62,
      "outputs": []
    },
    {
      "cell_type": "code",
      "source": [
        "for i in range(len(sent)):\n",
        "  sent[i] =[word for word in sent[i] if word not in set(stopwords.words('english'))]"
      ],
      "metadata": {
        "id": "YL1ogL93FLrL"
      },
      "execution_count": 63,
      "outputs": []
    },
    {
      "cell_type": "code",
      "source": [
        "sent"
      ],
      "metadata": {
        "colab": {
          "base_uri": "https://localhost:8080/"
        },
        "id": "WSzvTFoxHJlx",
        "outputId": "89c8ad85-359f-4e47-e73e-4ab5291809b7"
      },
      "execution_count": 64,
      "outputs": [
        {
          "output_type": "execute_result",
          "data": {
            "text/plain": [
              "[['narendra',\n",
              "  'damodardas',\n",
              "  'modi',\n",
              "  'gujarati',\n",
              "  'n',\n",
              "  'end',\n",
              "  'mod',\n",
              "  'modi',\n",
              "  'born',\n",
              "  'september',\n",
              "  'b',\n",
              "  'indian',\n",
              "  'politician',\n",
              "  'served',\n",
              "  'th',\n",
              "  'prime',\n",
              "  'minister',\n",
              "  'india',\n",
              "  'since',\n",
              "  'may',\n",
              "  '.'],\n",
              " ['modi',\n",
              "  'chief',\n",
              "  'minister',\n",
              "  'gujarat',\n",
              "  'member',\n",
              "  'parliament',\n",
              "  'mp',\n",
              "  'varanasi',\n",
              "  '.'],\n",
              " ['member',\n",
              "  'bharatiya',\n",
              "  'janata',\n",
              "  'party',\n",
              "  'bjp',\n",
              "  'rashtriya',\n",
              "  'swayamsevak',\n",
              "  'sangh',\n",
              "  'rss',\n",
              "  'right',\n",
              "  'wing',\n",
              "  'hindu',\n",
              "  'nationalist',\n",
              "  'paramilitary',\n",
              "  'volunteer',\n",
              "  'organisation',\n",
              "  '.'],\n",
              " ['longest',\n",
              "  'serving',\n",
              "  'prime',\n",
              "  'minister',\n",
              "  'outside',\n",
              "  'indian',\n",
              "  'national',\n",
              "  'congress',\n",
              "  '.'],\n",
              " ['modi',\n",
              "  'born',\n",
              "  'raised',\n",
              "  'vadnagar',\n",
              "  'northeastern',\n",
              "  'gujarat',\n",
              "  'completed',\n",
              "  'secondary',\n",
              "  'education',\n",
              "  '.'],\n",
              " ['introduced', 'rss', 'age', 'eight', '.'],\n",
              " ['account',\n",
              "  'helping',\n",
              "  'father',\n",
              "  'sell',\n",
              "  'tea',\n",
              "  'vadnagar',\n",
              "  'railway',\n",
              "  'station',\n",
              "  'reliably',\n",
              "  'corroborated',\n",
              "  '.'],\n",
              " ['age',\n",
              "  'married',\n",
              "  'jashodaben',\n",
              "  'modi',\n",
              "  'abandoned',\n",
              "  'soon',\n",
              "  'publicly',\n",
              "  'acknowledging',\n",
              "  'four',\n",
              "  'decades',\n",
              "  'later',\n",
              "  'legally',\n",
              "  'required',\n",
              "  '.'],\n",
              " ['modi', 'became', 'full', 'time', 'worker', 'rss', 'gujarat', '.'],\n",
              " ['rss',\n",
              "  'assigned',\n",
              "  'bjp',\n",
              "  'held',\n",
              "  'several',\n",
              "  'positions',\n",
              "  'within',\n",
              "  'party',\n",
              "  'hierarchy',\n",
              "  'rising',\n",
              "  'rank',\n",
              "  'general',\n",
              "  'secretary',\n",
              "  '.'],\n",
              " ['c',\n",
              "  'modi',\n",
              "  'appointed',\n",
              "  'chief',\n",
              "  'minister',\n",
              "  'gujarat',\n",
              "  'elected',\n",
              "  'legislative',\n",
              "  'assembly',\n",
              "  'soon',\n",
              "  '.'],\n",
              " ['administration',\n",
              "  'considered',\n",
              "  'complicit',\n",
              "  'gujarat',\n",
              "  'riots',\n",
              "  'criticised',\n",
              "  'management',\n",
              "  'crisis',\n",
              "  '.'],\n",
              " ['little',\n",
              "  'people',\n",
              "  'killed',\n",
              "  'according',\n",
              "  'official',\n",
              "  'records',\n",
              "  'three',\n",
              "  'quarters',\n",
              "  'muslim',\n",
              "  'independent',\n",
              "  'sources',\n",
              "  'estimated',\n",
              "  'deaths',\n",
              "  'mostly',\n",
              "  'muslim',\n",
              "  '.'],\n",
              " ['special',\n",
              "  'investigation',\n",
              "  'team',\n",
              "  'appointed',\n",
              "  'supreme',\n",
              "  'court',\n",
              "  'india',\n",
              "  'found',\n",
              "  'evidence',\n",
              "  'initiate',\n",
              "  'prosecution',\n",
              "  'proceedings',\n",
              "  '.'],\n",
              " ['e',\n",
              "  'policies',\n",
              "  'chief',\n",
              "  'minister',\n",
              "  'credited',\n",
              "  'encouraging',\n",
              "  'economic',\n",
              "  'growth',\n",
              "  'praised',\n",
              "  'modi',\n",
              "  'administration',\n",
              "  'criticised',\n",
              "  'failing',\n",
              "  'significantly',\n",
              "  'improve',\n",
              "  'health',\n",
              "  'poverty',\n",
              "  'education',\n",
              "  'indices',\n",
              "  'state',\n",
              "  '.'],\n",
              " ['f',\n",
              "  'indian',\n",
              "  'general',\n",
              "  'election',\n",
              "  'modi',\n",
              "  'led',\n",
              "  'bjp',\n",
              "  'parliamentary',\n",
              "  'majority',\n",
              "  'first',\n",
              "  'party',\n",
              "  'since',\n",
              "  '.'],\n",
              " ['administration',\n",
              "  'increased',\n",
              "  'direct',\n",
              "  'foreign',\n",
              "  'investment',\n",
              "  'reduced',\n",
              "  'spending',\n",
              "  'healthcare',\n",
              "  'education',\n",
              "  'social',\n",
              "  'welfare',\n",
              "  'programmes',\n",
              "  '.'],\n",
              " ['modi',\n",
              "  'began',\n",
              "  'high',\n",
              "  'profile',\n",
              "  'sanitation',\n",
              "  'campaign',\n",
              "  'controversially',\n",
              "  'initiated',\n",
              "  'demonetisation',\n",
              "  'high',\n",
              "  'denomination',\n",
              "  'banknotes',\n",
              "  'introduced',\n",
              "  'goods',\n",
              "  'services',\n",
              "  'tax',\n",
              "  'weakened',\n",
              "  'abolished',\n",
              "  'environmental',\n",
              "  'labour',\n",
              "  'laws',\n",
              "  '.'],\n",
              " ['modi',\n",
              "  'administration',\n",
              "  'launched',\n",
              "  'balakot',\n",
              "  'airstrike',\n",
              "  'alleged',\n",
              "  'terrorist',\n",
              "  'training',\n",
              "  'camp',\n",
              "  'pakistan',\n",
              "  '.'],\n",
              " ['airstrike',\n",
              "  'failed',\n",
              "  'deaths',\n",
              "  'six',\n",
              "  'indian',\n",
              "  'personnel',\n",
              "  'friendly',\n",
              "  'fire',\n",
              "  'later',\n",
              "  'revealed',\n",
              "  'action',\n",
              "  'nationalist',\n",
              "  'appeal',\n",
              "  '.'],\n",
              " ['modi', 'party', 'comfortably', 'general', 'election', 'followed', '.'],\n",
              " ['second',\n",
              "  'term',\n",
              "  'administration',\n",
              "  'revoked',\n",
              "  'special',\n",
              "  'status',\n",
              "  'jammu',\n",
              "  'kashmir',\n",
              "  'indian',\n",
              "  'administered',\n",
              "  'portion',\n",
              "  'disputed',\n",
              "  'kashmir',\n",
              "  'region',\n",
              "  'introduced',\n",
              "  'citizenship',\n",
              "  'amendment',\n",
              "  'act',\n",
              "  'prompting',\n",
              "  'widespread',\n",
              "  'protests',\n",
              "  'spurring',\n",
              "  'delhi',\n",
              "  'riots',\n",
              "  'muslims',\n",
              "  'brutalised',\n",
              "  'killed',\n",
              "  'hindu',\n",
              "  'mobs',\n",
              "  'sometimes',\n",
              "  'complicity',\n",
              "  'police',\n",
              "  'forces',\n",
              "  'controlled',\n",
              "  'modi',\n",
              "  'administration',\n",
              "  '.'],\n",
              " ['three',\n",
              "  'controversial',\n",
              "  'farm',\n",
              "  'laws',\n",
              "  'led',\n",
              "  'sit',\n",
              "  'ins',\n",
              "  'farmers',\n",
              "  'across',\n",
              "  'country',\n",
              "  'eventually',\n",
              "  'causing',\n",
              "  'formal',\n",
              "  'repeal',\n",
              "  '.'],\n",
              " ['modi', 'oversaw', 'india', 'response', 'covid', 'pandemic', '.'],\n",
              " ['million',\n",
              "  'indians',\n",
              "  'died',\n",
              "  'according',\n",
              "  'world',\n",
              "  'health',\n",
              "  'organization',\n",
              "  'estimates',\n",
              "  '.'],\n",
              " ['modi',\n",
              "  'tenure',\n",
              "  'india',\n",
              "  'experienced',\n",
              "  'democratic',\n",
              "  'backsliding',\n",
              "  'weakening',\n",
              "  'democratic',\n",
              "  'institutions',\n",
              "  'individual',\n",
              "  'rights',\n",
              "  'freedom',\n",
              "  'expression',\n",
              "  '.'],\n",
              " ['g',\n",
              "  'prime',\n",
              "  'minister',\n",
              "  'received',\n",
              "  'consistently',\n",
              "  'high',\n",
              "  'approval',\n",
              "  'ratings',\n",
              "  '.'],\n",
              " ['modi',\n",
              "  'described',\n",
              "  'engineering',\n",
              "  'political',\n",
              "  'realignment',\n",
              "  'towards',\n",
              "  'right',\n",
              "  'wing',\n",
              "  'politics',\n",
              "  '.'],\n",
              " ['remains',\n",
              "  'controversial',\n",
              "  'figure',\n",
              "  'domestically',\n",
              "  'internationally',\n",
              "  'hindu',\n",
              "  'nationalist',\n",
              "  'beliefs',\n",
              "  'handling',\n",
              "  'gujarat',\n",
              "  'riots',\n",
              "  'cited',\n",
              "  'evidence',\n",
              "  'majoritarian',\n",
              "  'exclusionary',\n",
              "  'social',\n",
              "  'agenda',\n",
              "  '.'],\n",
              " ['h']]"
            ]
          },
          "metadata": {},
          "execution_count": 64
        }
      ]
    },
    {
      "cell_type": "code",
      "source": [
        "#train model\n",
        "wv=Word2Vec()\n",
        "model=Word2Vec(sent,min_count=1)\n",
        "words=list(model.wv.index_to_key)"
      ],
      "metadata": {
        "id": "_qv8fMZlHRcp"
      },
      "execution_count": 65,
      "outputs": []
    },
    {
      "cell_type": "code",
      "source": [
        "v=model.wv['india']\n",
        "v"
      ],
      "metadata": {
        "colab": {
          "base_uri": "https://localhost:8080/"
        },
        "id": "rZBj1NjNIFq0",
        "outputId": "59be821e-63c7-4f7f-b760-fce3274356ce"
      },
      "execution_count": 68,
      "outputs": [
        {
          "output_type": "execute_result",
          "data": {
            "text/plain": [
              "array([-9.6374061e-03,  9.1028400e-03,  4.2099110e-03,  9.2064049e-03,\n",
              "        6.7117959e-03,  2.7495916e-03,  9.9073080e-03, -4.1353954e-03,\n",
              "       -6.9839954e-03,  4.1386792e-03,  3.6924386e-03, -5.8001056e-03,\n",
              "        9.5764957e-03, -3.7236933e-03,  9.5833922e-03,  7.5586658e-04,\n",
              "       -6.3892440e-03, -2.2107346e-03, -7.4428013e-03, -3.2667380e-03,\n",
              "        9.0881187e-04,  9.4990721e-03,  9.4021251e-03, -6.6979253e-03,\n",
              "        3.4825520e-03,  2.3452851e-03, -2.5736424e-03, -9.4756354e-03,\n",
              "        9.2970801e-04, -8.1325816e-03,  6.3812518e-03, -5.8088717e-03,\n",
              "        5.7235910e-03,  9.8331785e-03, -2.2357242e-04,  4.7213826e-03,\n",
              "       -1.7994090e-03,  7.3125171e-03,  3.8759506e-03, -9.3068602e-03,\n",
              "       -2.2900826e-03,  3.3960394e-03, -1.8365304e-04, -1.1330711e-03,\n",
              "       -9.1162964e-04, -1.7995429e-03,  6.1675097e-04,  4.1572517e-03,\n",
              "       -4.2229956e-03, -3.8626886e-03,  1.4526384e-04,  1.7005128e-04,\n",
              "       -7.0307062e-05, -4.6884511e-03,  4.2256648e-03, -2.0732533e-03,\n",
              "        2.0888986e-03,  7.4084650e-04,  5.8506662e-03, -6.7168823e-03,\n",
              "       -6.7682513e-03, -4.5143003e-03,  9.4519779e-03, -1.6673326e-03,\n",
              "       -9.6344892e-03, -5.1029981e-04, -4.2716335e-03,  6.2038852e-03,\n",
              "       -9.8858951e-03,  2.9888274e-03, -9.4550783e-03,  1.2631490e-03,\n",
              "        6.1120647e-03,  7.3174494e-03, -7.5303535e-03, -5.8897422e-03,\n",
              "       -6.8519874e-03, -7.9601184e-03, -9.6742427e-03, -2.0354113e-03,\n",
              "       -8.4803818e-04, -7.1885162e-03,  6.6463230e-03,  1.2580616e-03,\n",
              "        5.7658204e-03,  1.5064724e-03,  8.4367616e-04, -7.0782988e-03,\n",
              "       -2.0435022e-03,  4.2450288e-03, -4.9085785e-03,  1.2366823e-03,\n",
              "        2.8201458e-03, -1.5159595e-03,  1.0111666e-02,  8.5003413e-03,\n",
              "        2.5281410e-03,  7.0039048e-03,  6.0147913e-03, -5.6904531e-03],\n",
              "      dtype=float32)"
            ]
          },
          "metadata": {},
          "execution_count": 68
        }
      ]
    },
    {
      "cell_type": "code",
      "source": [
        "s = model.wv.most_similar('india')\n",
        "s"
      ],
      "metadata": {
        "colab": {
          "base_uri": "https://localhost:8080/"
        },
        "id": "oGGiXO7GIaxk",
        "outputId": "4a024ed9-1d73-4f74-e767-1b7319bd5430"
      },
      "execution_count": 70,
      "outputs": [
        {
          "output_type": "execute_result",
          "data": {
            "text/plain": [
              "[('vadnagar', 0.2836538255214691),\n",
              " ('tax', 0.2759006917476654),\n",
              " ('elected', 0.24054715037345886),\n",
              " ('appeal', 0.23183727264404297),\n",
              " ('organisation', 0.21128791570663452),\n",
              " ('police', 0.20913530886173248),\n",
              " ('tenure', 0.2083253413438797),\n",
              " ('acknowledging', 0.20590870082378387),\n",
              " ('minister', 0.20237596333026886),\n",
              " ('member', 0.190444216132164)]"
            ]
          },
          "metadata": {},
          "execution_count": 70
        }
      ]
    }
  ]
}